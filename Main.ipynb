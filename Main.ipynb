{
 "cells": [
  {
   "cell_type": "code",
   "execution_count": 2,
   "id": "608e6798",
   "metadata": {},
   "outputs": [
    {
     "name": "stdout",
     "output_type": "stream",
     "text": [
      "\u001b[31mERROR: Exception:\n",
      "Traceback (most recent call last):\n",
      "  File \"/Users/asjadafnan/opt/anaconda3/lib/python3.9/site-packages/pip/_internal/cli/base_command.py\", line 173, in _main\n",
      "    status = self.run(options, args)\n",
      "  File \"/Users/asjadafnan/opt/anaconda3/lib/python3.9/site-packages/pip/_internal/cli/req_command.py\", line 203, in wrapper\n",
      "    return func(self, options, args)\n",
      "  File \"/Users/asjadafnan/opt/anaconda3/lib/python3.9/site-packages/pip/_internal/commands/install.py\", line 239, in run\n",
      "    options.use_user_site = decide_user_install(\n",
      "  File \"/Users/asjadafnan/opt/anaconda3/lib/python3.9/site-packages/pip/_internal/commands/install.py\", line 652, in decide_user_install\n",
      "    if site_packages_writable(root=root_path, isolated=isolated_mode):\n",
      "  File \"/Users/asjadafnan/opt/anaconda3/lib/python3.9/site-packages/pip/_internal/commands/install.py\", line 598, in site_packages_writable\n",
      "    get_lib_location_guesses(root=root, isolated=isolated))\n",
      "  File \"/Users/asjadafnan/opt/anaconda3/lib/python3.9/site-packages/pip/_internal/commands/install.py\", line 584, in get_lib_location_guesses\n",
      "    scheme = get_scheme(\n",
      "  File \"/Users/asjadafnan/opt/anaconda3/lib/python3.9/site-packages/pip/_internal/locations/__init__.py\", line 193, in get_scheme\n",
      "    old = _distutils.get_scheme(\n",
      "  File \"/Users/asjadafnan/opt/anaconda3/lib/python3.9/site-packages/pip/_internal/locations/_distutils.py\", line 130, in get_scheme\n",
      "    scheme = distutils_scheme(dist_name, user, home, root, isolated, prefix)\n",
      "  File \"/Users/asjadafnan/opt/anaconda3/lib/python3.9/site-packages/pip/_internal/locations/_distutils.py\", line 46, in distutils_scheme\n",
      "    d.parse_config_files()\n",
      "  File \"/Users/asjadafnan/opt/anaconda3/lib/python3.9/distutils/dist.py\", line 406, in parse_config_files\n",
      "    parser.read(filename)\n",
      "  File \"/Users/asjadafnan/opt/anaconda3/lib/python3.9/configparser.py\", line 697, in read\n",
      "    self._read(fp, filename)\n",
      "  File \"/Users/asjadafnan/opt/anaconda3/lib/python3.9/configparser.py\", line 1096, in _read\n",
      "    raise DuplicateOptionError(sectname, optname,\n",
      "configparser.DuplicateOptionError: While reading from '/Users/asjadafnan/.pydistutils.cfg' [line  3]: option 'include_dirs' in section 'build_ext' already exists\u001b[0m\n",
      "Note: you may need to restart the kernel to use updated packages.\n"
     ]
    }
   ],
   "source": [
    "\n"
   ]
  },
  {
   "cell_type": "code",
   "execution_count": null,
   "id": "7c5ecc9f",
   "metadata": {},
   "outputs": [],
   "source": []
  }
 ],
 "metadata": {
  "kernelspec": {
   "display_name": "Python 3 (ipykernel)",
   "language": "python",
   "name": "python3"
  },
  "language_info": {
   "codemirror_mode": {
    "name": "ipython",
    "version": 3
   },
   "file_extension": ".py",
   "mimetype": "text/x-python",
   "name": "python",
   "nbconvert_exporter": "python",
   "pygments_lexer": "ipython3",
   "version": "3.9.12"
  }
 },
 "nbformat": 4,
 "nbformat_minor": 5
}
